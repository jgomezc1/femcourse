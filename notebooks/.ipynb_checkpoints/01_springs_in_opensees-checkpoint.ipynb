{
 "cells": [
  {
   "cell_type": "markdown",
   "metadata": {
    "raw_mimetype": "text/latex"
   },
   "source": [
    "(c) Juan Gomez2025."
   ]
  },
  {
   "cell_type": "markdown",
   "metadata": {},
   "source": [
    "# A simple finite element analysis"
   ]
  },
  {
   "cell_type": "code",
   "execution_count": 11,
   "metadata": {},
   "outputs": [],
   "source": [
    "from openseespy.opensees import *\n",
    "import os\n",
    "import numpy as np\n",
    "import matplotlib.pyplot as plt\n",
    "import math"
   ]
  },
  {
   "cell_type": "markdown",
   "metadata": {},
   "source": [
    "# The Model Object"
   ]
  },
  {
   "cell_type": "markdown",
   "metadata": {},
   "source": [
    "Consider the following system\n",
    "\n",
    "<center><img src=\"img/SimpleSystem.png\" alt=\"files\" style=\"width:400px\"></center>\n",
    "\n",
    "representin a f-u relationship. We will model this set up using 2 approaches: (i) explicit elements with length and (ii) zero length elements."
   ]
  },
  {
   "cell_type": "markdown",
   "metadata": {},
   "source": [
    "## Clean memory and setup the modeling space"
   ]
  },
  {
   "cell_type": "code",
   "execution_count": 21,
   "metadata": {},
   "outputs": [],
   "source": [
    "# Clean and setup the model\n",
    "wipe()\n",
    "model('basic', '-ndm', 1, '-ndf', 1)"
   ]
  },
  {
   "cell_type": "markdown",
   "metadata": {},
   "source": [
    "## Define nodes, materials and elements"
   ]
  },
  {
   "cell_type": "code",
   "execution_count": 22,
   "metadata": {},
   "outputs": [],
   "source": [
    "# Create nodes\n",
    "node(1, 0.0)\n",
    "node(2, 1.0)\n",
    "node(3, 2.0)"
   ]
  },
  {
   "cell_type": "code",
   "execution_count": 23,
   "metadata": {},
   "outputs": [],
   "source": [
    "# Define uniaxial materials (elastic springs)\n",
    "uniaxialMaterial('Elastic', 1, 1000.0) # Material for Spring 1\n",
    "uniaxialMaterial('Elastic', 2, 2000.0) # Material for Spring 2\n",
    "uniaxialMaterial('Elastic', 3, 1500.0 )  # Material for Spring 3"
   ]
  },
  {
   "cell_type": "markdown",
   "metadata": {},
   "source": [
    "## We will use truss elements just as equivalents for springs with lengths"
   ]
  },
  {
   "cell_type": "code",
   "execution_count": 24,
   "metadata": {},
   "outputs": [],
   "source": [
    "# Define the spring elements\n",
    "element('Truss', 1, 1, 2, 1.0, 1) # Spring 1 (Node 1 to Node 2)\n",
    "element('Truss', 2, 2, 3, 1.0, 2) # Spring 2 (Node 2 to Node 3)\n",
    "element('Truss', 3, 1, 3, 1.0, 3) # Spring 3 (Node 1 to Node 3)"
   ]
  },
  {
   "cell_type": "code",
   "execution_count": 25,
   "metadata": {},
   "outputs": [],
   "source": [
    "# Fix Node 1, degree of freedom 1 (x-direction)\n",
    "fix(1, 1)"
   ]
  },
  {
   "cell_type": "markdown",
   "metadata": {},
   "source": [
    "## Apply loads"
   ]
  },
  {
   "cell_type": "code",
   "execution_count": 17,
   "metadata": {},
   "outputs": [],
   "source": [
    "# Define a time series and a load pattern\n",
    "timeSeries('Linear', 1)\n",
    "pattern('Plain', 1, 1)\n",
    "load(3, 1000.0) # Apply a load of 1000 to Node 3"
   ]
  },
  {
   "cell_type": "markdown",
   "metadata": {},
   "source": [
    "# The Analysis Object"
   ]
  },
  {
   "cell_type": "code",
   "execution_count": 18,
   "metadata": {},
   "outputs": [
    {
     "name": "stdout",
     "output_type": "stream",
     "text": [
      "Analysis complete.\n"
     ]
    }
   ],
   "source": [
    "# Set up the analysis\n",
    "constraints('Plain')\n",
    "numberer('RCM')\n",
    "system('BandSPD')\n",
    "integrator('LoadControl', 1.0) # Apply 100% of the load in one step\n",
    "algorithm('Newton')\n",
    "\n",
    "# Create the analysis object\n",
    "analysis('Static')\n",
    "\n",
    "# Perform the analysis\n",
    "analyze(1)\n",
    "print(\"Analysis complete.\")"
   ]
  },
  {
   "cell_type": "markdown",
   "metadata": {},
   "source": [
    "## Print some results from the Recorder Object"
   ]
  },
  {
   "cell_type": "code",
   "execution_count": 19,
   "metadata": {},
   "outputs": [
    {
     "name": "stdout",
     "output_type": "stream",
     "text": [
      "Displacement of Node 3: 1.0000\n",
      "Reaction force at Node 1: 0.0000\n",
      "\n",
      "Element Forces:\n",
      "  Force in Spring 1 (Node 1-2): -600.0000\n",
      "  Force in Spring 2 (Node 2-3): -600.0000\n",
      "  Force in Spring 3 (Node 1-3): -400.0000\n",
      "\n",
      "Displacement of Node 2: 0.6000\n"
     ]
    }
   ],
   "source": [
    "# Retrieve and print the results\n",
    "\n",
    "# 1. Get the displacement of Node 3\n",
    "disp_node_3 = nodeDisp(3, 1) # Node 3, Degree of freedom 1\n",
    "print(f\"Displacement of Node 3: {disp_node_3:.4f}\")\n",
    "\n",
    "# 2. Get the reaction force at Node 1 (fixed node)\n",
    "reaction_node_1 = nodeReaction(1, 1) # Node 1, Degree of freedom 1\n",
    "print(f\"Reaction force at Node 1: {reaction_node_1:.4f}\")\n",
    "\n",
    "# 3. Get the forces in the spring elements\n",
    "force_spring_1 = eleForce(1) # Force in Element 1 (Spring 1)\n",
    "force_spring_2 = eleForce(2) # Force in Element 2 (Spring 2)\n",
    "force_spring_3 = eleForce(3) # Force in Element 3 (Spring 3)\n",
    "\n",
    "print(\"\\nElement Forces:\")\n",
    "print(f\"  Force in Spring 1 (Node 1-2): {force_spring_1[0]:.4f}\")\n",
    "print(f\"  Force in Spring 2 (Node 2-3): {force_spring_2[0]:.4f}\")\n",
    "print(f\"  Force in Spring 3 (Node 1-3): {force_spring_3[0]:.4f}\")\n",
    "\n",
    "# You can also get the displacement of Node 2\n",
    "disp_node_2 = nodeDisp(2, 1)\n",
    "print(f\"\\nDisplacement of Node 2: {disp_node_2:.4f}\")"
   ]
  },
  {
   "cell_type": "markdown",
   "metadata": {},
   "source": [
    "# The Zero length element approach"
   ]
  },
  {
   "cell_type": "markdown",
   "metadata": {},
   "source": [
    "In this approach we recognize that an array of springs in series and in parallel defines a force-displacements relationship which can be assigned to a single (zerolength) element"
   ]
  },
  {
   "cell_type": "code",
   "execution_count": 26,
   "metadata": {},
   "outputs": [],
   "source": [
    "from openseespy.opensees import *\n",
    "import os\n",
    "import numpy as np\n",
    "import matplotlib.pyplot as plt\n",
    "import math"
   ]
  },
  {
   "cell_type": "code",
   "execution_count": 27,
   "metadata": {},
   "outputs": [],
   "source": [
    "# Clean and setup the model\n",
    "wipe()\n",
    "model('basic', '-ndm', 1, '-ndf', 1)"
   ]
  },
  {
   "cell_type": "markdown",
   "metadata": {},
   "source": [
    "## There are two nodal points but inj the same location"
   ]
  },
  {
   "cell_type": "code",
   "execution_count": 28,
   "metadata": {},
   "outputs": [],
   "source": [
    "# Nodes\n",
    "node(1, 0.0)\n",
    "node(2, 0.0)"
   ]
  },
  {
   "cell_type": "code",
   "execution_count": 29,
   "metadata": {},
   "outputs": [],
   "source": [
    "fix(1, 1)"
   ]
  },
  {
   "cell_type": "code",
   "execution_count": 30,
   "metadata": {},
   "outputs": [],
   "source": [
    "# Spring 1: Elastic\n",
    "uniaxialMaterial('Elastic', 1, 1000.0)\n",
    "\n",
    "# Spring 2: Elastic\n",
    "uniaxialMaterial('Elastic', 2, 2000.0)\n",
    "\n",
    "# Spring 3: Elastic\n",
    "uniaxialMaterial('Elastic', 3, 1500.0)"
   ]
  },
  {
   "cell_type": "code",
   "execution_count": 31,
   "metadata": {},
   "outputs": [],
   "source": [
    "# Series material: Spring 1 and Spring 2 in series\n",
    "uniaxialMaterial('Series', 10, 1, 2)\n",
    "\n",
    "# Parallel material: Series(S1+S2) in parallel with S3\n",
    "uniaxialMaterial('Parallel', 20, 10, 3)"
   ]
  },
  {
   "cell_type": "code",
   "execution_count": 32,
   "metadata": {},
   "outputs": [],
   "source": [
    "# ------------------\n",
    "# Element\n",
    "# ------------------\n",
    "element('zeroLength', 1, 1, 2, '-mat', 20, '-dir', 1)"
   ]
  },
  {
   "cell_type": "code",
   "execution_count": 33,
   "metadata": {},
   "outputs": [],
   "source": [
    "# ------------------\n",
    "# Load Pattern\n",
    "# ------------------\n",
    "timeSeries('Linear', 1)\n",
    "pattern('Plain', 1, 1)\n",
    "load(2, 1000.0)  # Apply load at node 2"
   ]
  },
  {
   "cell_type": "code",
   "execution_count": 34,
   "metadata": {},
   "outputs": [
    {
     "name": "stdout",
     "output_type": "stream",
     "text": [
      "Analysis complete.\n"
     ]
    }
   ],
   "source": [
    "# Set up the analysis\n",
    "constraints('Plain')\n",
    "numberer('RCM')\n",
    "system('BandSPD')\n",
    "integrator('LoadControl', 1.0) # Apply 100% of the load in one step\n",
    "algorithm('Newton')\n",
    "\n",
    "# Create the analysis object\n",
    "analysis('Static')\n",
    "\n",
    "# Perform the analysis\n",
    "analyze(1)\n",
    "print(\"Analysis complete.\")"
   ]
  },
  {
   "cell_type": "code",
   "execution_count": 35,
   "metadata": {},
   "outputs": [
    {
     "name": "stdout",
     "output_type": "stream",
     "text": [
      "Displacement of Node 3: 0.0046\n",
      "Reaction force at Node 1: 0.0000\n",
      "\n",
      "Element Forces:\n",
      "  Force in Spring 1 (Node 1-2): -600.0000\n"
     ]
    }
   ],
   "source": [
    "# Retrieve and print the results\n",
    "\n",
    "# 1. Get the displacement of Node 3\n",
    "disp_node_2 = nodeDisp(2, 1) # Node 3, Degree of freedom 1\n",
    "print(f\"Displacement of Node 3: {disp_node_2:.4f}\")\n",
    "\n",
    "# 2. Get the reaction force at Node 1 (fixed node)\n",
    "reaction_node_1 = nodeReaction(1, 1) # Node 1, Degree of freedom 1\n",
    "print(f\"Reaction force at Node 1: {reaction_node_1:.4f}\")\n",
    "\n",
    "# 3. Get the forces in the spring elements\n",
    "force_spring = eleForce(1) # Force in Element 1 (Spring 1)\n",
    "\n",
    "print(\"\\nElement Forces:\")\n",
    "print(f\"  Force in Spring 1 (Node 1-2): {force_spring_1[0]:.4f}\")"
   ]
  },
  {
   "cell_type": "code",
   "execution_count": null,
   "metadata": {},
   "outputs": [],
   "source": []
  }
 ],
 "metadata": {
  "celltoolbar": "Raw Cell Format",
  "kernelspec": {
   "display_name": "Python 3 (ipykernel)",
   "language": "python",
   "name": "python3"
  },
  "language_info": {
   "codemirror_mode": {
    "name": "ipython",
    "version": 3
   },
   "file_extension": ".py",
   "mimetype": "text/x-python",
   "name": "python",
   "nbconvert_exporter": "python",
   "pygments_lexer": "ipython3",
   "version": "3.8.20"
  },
  "varInspector": {
   "cols": {
    "lenName": 16,
    "lenType": 16,
    "lenVar": 40
   },
   "kernels_config": {
    "python": {
     "delete_cmd_postfix": "",
     "delete_cmd_prefix": "del ",
     "library": "var_list.py",
     "varRefreshCmd": "print(var_dic_list())"
    },
    "r": {
     "delete_cmd_postfix": ") ",
     "delete_cmd_prefix": "rm(",
     "library": "var_list.r",
     "varRefreshCmd": "cat(var_dic_list()) "
    }
   },
   "types_to_exclude": [
    "module",
    "function",
    "builtin_function_or_method",
    "instance",
    "_Feature"
   ],
   "window_display": false
  }
 },
 "nbformat": 4,
 "nbformat_minor": 4
}
