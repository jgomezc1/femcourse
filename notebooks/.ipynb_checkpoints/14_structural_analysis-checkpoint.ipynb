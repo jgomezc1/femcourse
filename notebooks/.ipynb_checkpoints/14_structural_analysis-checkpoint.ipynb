{
 "cells": [
  {
   "cell_type": "markdown",
   "metadata": {
    "raw_mimetype": "text/latex"
   },
   "source": [
    "(c) Juan Gomez 2019. Thanks to Universidad EAFIT for support. This material is part of the course Introduction to Finite Element Analysis"
   ]
  },
  {
   "cell_type": "markdown",
   "metadata": {},
   "source": [
    "# Two-dimensional frame elements"
   ]
  },
  {
   "cell_type": "markdown",
   "metadata": {},
   "source": [
    "The code can now be easily extended to consider also frame elements as the one shown in the figure in its local reference system: \n",
    "\n",
    "<center><img src=\"img/frame1.png\" alt=\"files\" style=\"width:400px\"></center>\n",
    "\n",
    "In this case the element has infinite axial stiffness therefore in the local system the only degrees of freedom are the transverse displacement and the rotation. The generalized displacements vector reads:\n",
    "\n",
    "$$\n",
    "u^T=\\begin{bmatrix}v_1&\\theta_1&v_2&\\theta_2\\end{bmatrix}\n",
    "$$\n",
    "\n",
    "while the vector of generalized forces (shears and moments) is:\n",
    "\n",
    "$$\n",
    "f^T=\\begin{bmatrix}f_1&m_1&f_2&m_2\\end{bmatrix}\n",
    "$$\n",
    "\n",
    "\n",
    "The force-displacement stiffness matrix in the local reference system is:\n",
    "\n",
    "$$\n",
    "$$\n",
    "\\begin{bmatrix}12\\frac{EI}{\\mathcal l^3}&6\\frac{EI}{\\mathcal l^3}&-12\\frac{EI}{\\mathcal l^3}&6\\frac{EI}{\\mathcal l^2}\\\\6\\frac{EI}{\\mathcal l^3}&4\\frac{EI}{\\mathcal l}&-6\\frac{EI}{\\mathcal l^2}&2\\frac{EI}{\\mathcal l}\\\\12\\frac{EI}{\\mathcal l^3}&-6\\frac{EI}{\\mathcal l^2}&12\\frac{EI}{\\mathcal l^3}&-6\\frac{EI}{\\mathcal l^2}\\\\6\\frac{EI}{\\mathcal l^2}&2\\frac{EI}{\\mathcal l}&-6\\frac{EI}{\\mathcal l^2}&4\\frac{EI}{\\mathcal l}\\end{bmatrix}\n",
    "$$\n",
    "$$\n",
    "\n",
    "To obtain the total stiffness from the structure it is now necessary to consider the stiffness contribution from all the elements in a common (**Global**) reference system and for that purpose we proceed like in the two-dimensional truss problem giving for the elemental stiffness matrix in the global reference system:\n",
    "\n",
    "$$K=\\lambda^Tk\\lambda$$\n",
    "\n",
    "where $K$ is the stiffness matrix for the two-dimensional frame element in the global reference system. It must be observed that in the global reference system the element has now three degrees of freedom per node.\n",
    "\n",
    "In the actual implementation all the information required to compute $K$ is passed as input paramters to the elemental subroutine **uel()** as described below."
   ]
  },
  {
   "cell_type": "markdown",
   "metadata": {},
   "source": [
    "### Simple framed strucure\n",
    "\n",
    "Cosnsider the following three-elements assemblage (The required input files are available in the files folder from the REPO):\n",
    "\n",
    "\n",
    "<center><img src=\"img/frame2.png\" alt=\"files\" style=\"width:500px\"></center>\n",
    "\n",
    "find the lateral displacement of the structure when subject to the lateral load $P.$\n",
    "\n",
    "**Question: Find the rotational transformation matrix $\\lambda$ required for the formulation of the stiffness matrix in the global reference system.**"
   ]
  },
  {
   "cell_type": "markdown",
   "metadata": {},
   "source": [
    "The modifications that must be applied to the spring-elements based code are only related to the fact that now there are 3 degrees of freedom are each nodal point."
   ]
  },
  {
   "cell_type": "code",
   "execution_count": 1,
   "metadata": {},
   "outputs": [],
   "source": [
    "%matplotlib inline        \n",
    "import matplotlib.pyplot as plt\n",
    "import numpy as np\n",
    "import sympy as sym"
   ]
  },
  {
   "cell_type": "code",
   "execution_count": 2,
   "metadata": {},
   "outputs": [],
   "source": [
    "import sys\n",
    "import os\n",
    "\n",
    "# Construct the full path to the source code directory relative to the current working directory\n",
    "structuPy_path = os.path.join(os.getcwd(), \"..\", \"structuPy\")\n",
    "\n",
    "# Add the source code directory to the Python path\n",
    "sys.path.append(structuPy_path)"
   ]
  },
  {
   "cell_type": "code",
   "execution_count": 3,
   "metadata": {},
   "outputs": [],
   "source": [
    "import assembler as ass"
   ]
  },
  {
   "cell_type": "markdown",
   "metadata": {},
   "source": [
    "Read the input files from the **files** folder. "
   ]
  },
  {
   "cell_type": "code",
   "execution_count": 4,
   "metadata": {},
   "outputs": [],
   "source": [
    "def readin():\n",
    "    nodes    = np.loadtxt('files/' + 'Fnodes.txt', ndmin=2)\n",
    "    mats     = np.loadtxt('files/' + 'Fmater.txt', ndmin=2)\n",
    "    elements = np.loadtxt('files/' + 'Feles.txt' , ndmin=2)\n",
    "    loads    = np.loadtxt('files/' + 'Floads.txt', ndmin=2)\n",
    "\n",
    "    return nodes, mats, elements, loads"
   ]
  },
  {
   "cell_type": "markdown",
   "metadata": {},
   "source": [
    "**eqcounter** counts equations and generates the boundary conditions array in its second instance."
   ]
  },
  {
   "cell_type": "markdown",
   "metadata": {},
   "source": [
    "**DME** computes the assembly operator."
   ]
  },
  {
   "cell_type": "markdown",
   "metadata": {},
   "source": [
    "**assembly** uses the model and the **DME** operator to compute the global stiffness matrix.\n"
   ]
  },
  {
   "cell_type": "markdown",
   "metadata": {},
   "source": [
    "**uelbeam2D** uses the nodal point coordinates and the material parameters to compute the local stiffness matrix transformed to the global reference system.\n",
    "\n",
    "**Question: Add comments to explains the different steps in the following subroutine. In particular identify the computation of the rotational transformation matrix $\\lambda$.**"
   ]
  },
  {
   "cell_type": "markdown",
   "metadata": {},
   "source": [
    "**loadassem** forms the vector of nodal loads."
   ]
  },
  {
   "cell_type": "markdown",
   "metadata": {},
   "source": [
    "The main program still retains the same structure as follows:\n",
    "\n",
    "* Reads the model\n",
    "* Builds the DME() operator\n",
    "* Assembles the global system of equations\n",
    "* Solves for the global displacements $UG$"
   ]
  },
  {
   "cell_type": "code",
   "execution_count": 10,
   "metadata": {},
   "outputs": [
    {
     "data": {
      "text/plain": [
       "array([[-1, -1, -1],\n",
       "       [ 0,  1,  2],\n",
       "       [ 3,  4,  5],\n",
       "       [-1, -1, -1]])"
      ]
     },
     "execution_count": 10,
     "metadata": {},
     "output_type": "execute_result"
    }
   ],
   "source": [
    "nodes, mats, elements, loads = readin()\n",
    "dme, ibc , neq = ass.DME(nodes, elements)\n",
    "ibc"
   ]
  },
  {
   "cell_type": "code",
   "execution_count": 8,
   "metadata": {},
   "outputs": [
    {
     "name": "stdout",
     "output_type": "stream",
     "text": [
      "[[ 0.00175  0.00135 -0.00135  0.00135  0.       0.     ]\n",
      " [ 0.00135  0.0018  -0.00135  0.0009   0.       0.     ]\n",
      " [-0.00135 -0.00135  0.00135 -0.00135  0.       0.     ]\n",
      " [ 0.00135  0.0009  -0.00135  0.0022   0.       0.     ]\n",
      " [ 0.       0.       0.       0.       0.       0.     ]\n",
      " [ 0.       0.       0.       0.       0.       0.     ]]\n"
     ]
    }
   ],
   "source": [
    "KG , MG   = ass.assembly(elements, mats, nodes, neq, dme)\n",
    "print(MG)\n",
    "RHSG = ass.loadasem(loads, ibc , neq, 1)\n",
    "#UG   = np.linalg.solve(KG, RHSG)\n",
    "#print(UG)"
   ]
  },
  {
   "cell_type": "markdown",
   "metadata": {},
   "source": [
    "### Proposed problems\n",
    "#### Problem 1\n",
    "Implement a subroutine to compute the nodal forces in each element and verify the equilibrium of the system.\n",
    "\n",
    "#### Problem 2\n",
    "Find the lateral stiffness of the structure using the relation:\n",
    "\n",
    "$$k=\\frac P\\delta$$\n",
    "\n",
    "#### Problem 3\n",
    "Retrofit the structure in such a way that the lateral stiffness increases by a factor of 2.0.\n",
    "\n",
    "#### Problem 4\n",
    "Fix the framed structure shown in the figure by adding elements and/or imposing appropiate displacement boundary conditions. (Note: you must create a new set of input files.)\n",
    "\n",
    "<center><img src=\"img/frame3.png\" alt=\"files\" style=\"width:500px\"></center>"
   ]
  },
  {
   "cell_type": "markdown",
   "metadata": {},
   "source": [
    "### References\n",
    "\n",
    "* Bathe, Klaus-Jürgen. (2006) Finite element procedures. Klaus-Jurgen Bathe. Prentice Hall International.\n",
    "\n",
    "* Juan Gómez, Nicolás Guarín-Zapata (2018). SolidsPy: 2D-Finite Element Analysis with Python, <https://github.com/AppliedMechanics-EAFIT/SolidsPy>."
   ]
  },
  {
   "cell_type": "code",
   "execution_count": null,
   "metadata": {},
   "outputs": [],
   "source": [
    "from IPython.core.display import HTML\n",
    "def css_styling():\n",
    "    styles = open('./nb_style.css', 'r').read()\n",
    "    return HTML(styles)\n",
    "css_styling()"
   ]
  },
  {
   "cell_type": "code",
   "execution_count": null,
   "metadata": {},
   "outputs": [],
   "source": []
  }
 ],
 "metadata": {
  "celltoolbar": "Raw Cell Format",
  "kernelspec": {
   "display_name": "Python 3 (ipykernel)",
   "language": "python",
   "name": "python3"
  },
  "language_info": {
   "codemirror_mode": {
    "name": "ipython",
    "version": 3
   },
   "file_extension": ".py",
   "mimetype": "text/x-python",
   "name": "python",
   "nbconvert_exporter": "python",
   "pygments_lexer": "ipython3",
   "version": "3.11.7"
  },
  "varInspector": {
   "cols": {
    "lenName": 16,
    "lenType": 16,
    "lenVar": 40
   },
   "kernels_config": {
    "python": {
     "delete_cmd_postfix": "",
     "delete_cmd_prefix": "del ",
     "library": "var_list.py",
     "varRefreshCmd": "print(var_dic_list())"
    },
    "r": {
     "delete_cmd_postfix": ") ",
     "delete_cmd_prefix": "rm(",
     "library": "var_list.r",
     "varRefreshCmd": "cat(var_dic_list()) "
    }
   },
   "types_to_exclude": [
    "module",
    "function",
    "builtin_function_or_method",
    "instance",
    "_Feature"
   ],
   "window_display": false
  }
 },
 "nbformat": 4,
 "nbformat_minor": 4
}
