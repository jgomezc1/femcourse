{
 "cells": [
  {
   "cell_type": "markdown",
   "metadata": {
    "raw_mimetype": "text/latex"
   },
   "source": [
    "(c) Juan Gomez2025."
   ]
  },
  {
   "cell_type": "markdown",
   "metadata": {},
   "source": [
    "# A simple finite element code\n",
    "## Preliminary-Discrete systems"
   ]
  },
  {
   "cell_type": "markdown",
   "metadata": {},
   "source": [
    "The strategy behind a finite element algorithm is that of using the concept of discrete elements to render a continous system into a discrete problem. A continous system is governed by a set of partial differential equations and boundary conditions defining a boundary value problem, while a discrete problem is governed by a set of linear (or non-linear) algebraic equations. As it turns out, the idea behind a finite element algorithm is to combine mathematical principles and numerical methods to render the continuous BVP into a discrete system of equations. The following example of a set of masses connected by springs is a useful introductory problem to study finite element methods as the system is discrete in nature allowing us to follow most of the algorithmic aspects of a finite element code without the complex parafernalia of numerical methods or mathematical principles.\n",
    "\n",
    "Here the problem consists of an assemblage of masses joined by different springs submitted to static loads. The springs will play the role of finite elements, while the masses would represent special points called nodes within the finite element jargon. One such a system is shown in the figure.\n",
    "\n",
    "<center><img src=\"img/spring_system.png\" alt=\"files\" style=\"width:400px\"></center>\n"
   ]
  },
  {
   "cell_type": "markdown",
   "metadata": {},
   "source": [
    "### Equilibrium equations for a typical spring (element).\n",
    "\n",
    "Consider a typical spring (finite element) of stiffness coefficient $k$  like the one shown in the figure\n",
    "\n",
    "<center><img src=\"img/springele1.png\" alt=\"files\" style=\"width:300px\"></center>\n",
    "\n",
    "and with displacements and forces at each end denoted by $u_i$ and $f_i$ respectively and where $i = 1,2$ depending on the specific end. If the spring is subject to different displacements of the nodal points one obtains the following forces written in matrix form like:\n",
    "\n",
    "$$\n",
    "    \\begin{Bmatrix}\n",
    "        f_1\\\\\n",
    "        f_2\n",
    "    \\end{Bmatrix} =\n",
    "    K\\begin{bmatrix}\n",
    "          1.0 & -1.0\\\\\n",
    "        - 1.0 & 1.0\n",
    "    \\end{bmatrix}\n",
    "    \\begin{Bmatrix}\n",
    "        u_1\\\\\n",
    "        u_2\n",
    "    \\end{Bmatrix}\n",
    "$$\n",
    "\n",
    "\n",
    "### Equilibrium equations for a typical mass.\n",
    "\n",
    "Consider now the equilibrium equation:\n",
    "\n",
    "\n",
    "$$\n",
    "f_2^i + f_1^{i + 1} + m_j\\frac{dV_j}{dt} = P_j.\n",
    "$$\n",
    "\n",
    "for a typical mass $m_j$ as the one shown in the figure\n",
    "\n",
    "\n",
    "<center><img src=\"img/dcl_mass.png\" alt=\"files\" style=\"width:200px\"></center>\n",
    "\n",
    "Note that as indicated by the free body diagram, the mass is connected to springs $i$ and $i+1$ and is also under the action of an external load $P$. At the same time the dashed vector respresents the inertial load $m_j\\frac{dV_j}{dt}$.\n",
    "\n",
    "\n",
    "\n",
    "Letting the displacement of the $m_j$ mass be $u_j$ and expressing spring forces in terms of displacements in the equlibrium equation gives:\n",
    "\n",
    "$$\n",
    "(K^i+K^{i+1})u_j-K^iu_{j-1}-K^{i+1}u_{j+1}+m_j\\frac{dV_j}{dt}=P_j\n",
    "$$\n",
    "\n",
    "\n",
    "The \"finite element\" equations for the complete spring-mass system written in general matrix form like:\n",
    "\n",
    "$$\n",
    "\\left[ {{K_G}} \\right]\\left\\{ {{U_G}} \\right\\} + \\left[ M \\right]\\left\\{ {{A_G}} \\right\\} = \\left\\{ {{F_G}} \\right\\}.\n",
    "$$\n",
    "\n",
    "is obtained after considering the equilibrium relations for each mass.\n",
    "\n",
    "### Computer implementation.\n",
    "\n",
    "To write the equilibrium equations in a systematic fashion suitable for a general finite element code consider the following 3-mass system.\n",
    "\n",
    "<center><img src=\"img/ibc.png\" alt=\"files\" style=\"width:300px\"></center>\n",
    "\n",
    "\n",
    "Writing the equilibrium equations for the springs $i$ and $i+1$ in terms of displacements $u_{j - 1}$, $u_j$ and $u_{j + 1}$ we have:\n",
    "\n",
    "$$\n",
    "\\left\\{ {\\begin{array}{*{20}{c}}\n",
    "{f_1^i}\\\\\n",
    "{f_2^i}\n",
    "\\end{array}} \\right\\} = \\left[ {\\begin{array}{*{20}{c}}\n",
    "{k_{11}^i}&{k_{12}^i}\\\\\n",
    "{k_{21}^i}&{k_{22}^i}\n",
    "\\end{array}} \\right]\\left\\{ {\\begin{array}{*{20}{c}}\n",
    "{{u_{j - 1}}}\\\\\n",
    "{{u_j}}\n",
    "\\end{array}} \\right\\}\n",
    "$$\n",
    "\n",
    "and\n",
    "\n",
    "$$\n",
    "\\left\\{ {\\begin{array}{*{20}{c}}\n",
    "{f_1^{i + 1}}\\\\\n",
    "{f_2^{i + 1}}\n",
    "\\end{array}} \\right\\} = \\left[ {\\begin{array}{*{20}{c}}\n",
    "{k_{11}^{i + 1}}&{k_{12}^{i + 1}}\\\\\n",
    "{k_{21}^{i + 1}}&{k_{22}^{i + 1}}\n",
    "\\end{array}} \\right]\\left\\{ {\\begin{array}{*{20}{c}}\n",
    "{{u_j}}\\\\\n",
    "{{u_{j + 1}}}\n",
    "\\end{array}} \\right\\}\n",
    "$$\n",
    "\n",
    "Npte that we have used a row-column index notation for the stiffness coefficients in order to facilitate the computer implementation. The equations for the $m_j$ mass then reads:\n",
    "\n",
    "$$\n",
    "k_{21}^i{u_{j - 1}} + (k_{22}^i + k_{11}^{i + 1}){u_j} + k_{12}^{i + 1}{u_{j + 1}} + m_j\\frac{dV_j}{dt} = {P_j}.\n",
    "$$\n",
    "\n",
    "\n",
    "Considering also the contributions from the springs $K^i$ and $K^{i+1}$ to the equilibrium of masses $m_{j-1}$ and $m_{j+1}$ respectively we have the following block from the complete system of equations.\n",
    "\n",
    "\n",
    "\n",
    "$$\n",
    "\\left[ {\\begin{array}{*{20}{c}}\n",
    "{}&{}&{}&{}\\\\\n",
    "{}&{k_{11}^i}&{k_{12}^i}&{}\\\\\n",
    "{}&{k_{21}^i}&{k_{22}^i + k_{11}^{i + 1}}&{k_{12}^{i + 1}}\\\\\n",
    "{}&{}&{k_{21}^{i + 1}}&{k_{22}^{i + 1}}\n",
    "\\end{array}} \\right]\n",
    "$$\n",
    "\n",
    "\n",
    "Considering now the complete system of masses and springs leads to a system of linear equations of the form\n",
    "$$\n",
    "\\left[ {{K_G}} \\right]\\left\\{ {{U_G}} \\right\\} + \\left[ M \\right]\\left\\{ {{A_G}} \\right\\} = \\left\\{ {{F_G}} \\right\\}.\n",
    "$$\n",
    "\n",
    "where each equation represents the equilibrium of a given mass.\n",
    "\n",
    "#### Assemblage.\n",
    "\n",
    "The construction of the global matrices governing the equilibrium of each mass in the system may be achieved in a very systematic way after adding up the contribution from each spring to the global matrix. This process is called assembly of the global equilibrium equations. This assembly operation can be performed after establishing the connection between the global and local degrees of freedom. This can be done through an operator storing in each row the identifiers for the global degrees of freedom corresponding to each element. For instance, in the 3-mass system the springs (or elementts) $i$ and $i+1$ have end displacements $j-1$ and $j$ and $j$ and $j+1$ respectively. These indices provide all the required information to conduct the assembly process. The matrix storing the global indices for all the elements in the model is called here the **DME()** operator and given like:\n",
    "\n",
    "\n",
    "$$\n",
    "DME = \\left[ {\\begin{array}{*{20}{c}}\n",
    "{}&{}\\\\\n",
    "{j - 1}&j\\\\\n",
    "j&{j + 1}\\\\\n",
    "{}&{}\n",
    "\\end{array}} \\right]\n",
    "$$\n",
    "\n",
    "\n",
    "With the **DME()** operator available the assembly proceeds as indicated next:\n",
    "\n",
    "\n",
    "$$\\begin{array}{l}\n",
    "{K_{j - 1,j - 1}} \\leftarrow {K_{j - 1,j - 1}} + k_{11}^i\\\\\n",
    "{K_{j - 1,j}} \\leftarrow {K_{j - 1,j}} + k_{12}^i\\\\\n",
    "{K_{j,j - 1}} \\leftarrow {K_{j,j - 1}} + k_{21}^i\\\\\n",
    "{K_{j,j}} \\leftarrow {K_{j,j}} + k_{22}^i\n",
    "\\end{array}\n",
    "$$\n",
    "\n",
    "and\n",
    "\n",
    "$$\n",
    "\\begin{array}{l}\n",
    "{K_{j,j}} \\leftarrow {K_{j,j}} + k_{11}^{i + 1}\\\\\n",
    "{K_{j,j + 1}} \\leftarrow {K_{j,j + 1}} + k_{12}^{i + 1}\\\\\n",
    "{K_{j + 1,j}} \\leftarrow {K_{j + 1,j}} + k_{21}^{i + 1}\\\\\n",
    "{K_{j + 1,j + 1}} \\leftarrow {K_{j + 1,j + 1}} + k_{22}^{i + 1}\n",
    "\\end{array}\n",
    "$$\n",
    "\n",
    "Notice the connection between the local indices, here corresponding to $1$ and $2$ and the possitions in the global matrix, here corresponding to $j-1$, $j$ and $j+1$."
   ]
  },
  {
   "cell_type": "markdown",
   "metadata": {},
   "source": [
    "### Example"
   ]
  },
  {
   "cell_type": "code",
   "execution_count": 10,
   "metadata": {},
   "outputs": [],
   "source": [
    "%matplotlib inline        \n",
    "import matplotlib.pyplot as plt\n",
    "import numpy as np\n",
    "import sympy as sym"
   ]
  },
  {
   "cell_type": "markdown",
   "metadata": {},
   "source": [
    "Consider the following system\n",
    "\n",
    "<center><img src=\"img/sisres.png\" alt=\"files\" style=\"width:400px\"></center>\n",
    "\n",
    "The required input files containing the input data for the masses (nodes), springs (elements), stiffness coefficients (materials) and loads are in the folder **files** of this REPO. The input files are read in the following piece of code:"
   ]
  },
  {
   "cell_type": "code",
   "execution_count": 11,
   "metadata": {},
   "outputs": [],
   "source": [
    "def readin():\n",
    "    nodes    = np.loadtxt('files/' + 'sprnodes.txt', ndmin=2)\n",
    "    mats     = np.loadtxt('files/' + 'sprmater.txt', ndmin=2)\n",
    "    elements = np.loadtxt('files/' + 'spreles.txt', ndmin=2, dtype=int)\n",
    "    loads    = np.loadtxt('files/' + 'sprloads.txt', ndmin=2)\n",
    "\n",
    "    return nodes, mats, elements, loads"
   ]
  },
  {
   "cell_type": "markdown",
   "metadata": {},
   "source": [
    "In the nodes file, storing the information from each mass, there is a $-1$ or a $0$ value indicateing if a given mass is restrained or free. Such data allows the code to assign an equation number to each free mass as done in the subroutine **eqcounter**"
   ]
  },
  {
   "cell_type": "code",
   "execution_count": 12,
   "metadata": {},
   "outputs": [],
   "source": [
    "def eqcounter(nodes):\n",
    "\n",
    "    nn = nodes.shape[0]\n",
    "    IBC = np.zeros([nn, 1], dtype=int)\n",
    "    neq = 0\n",
    "    for i in range(nn):\n",
    "        IBC[i] = int(nodes[i, 2])\n",
    "        if IBC[i] == 0:\n",
    "            IBC[i] = neq\n",
    "            neq = neq + 1\n",
    "\n",
    "    return neq, IBC"
   ]
  },
  {
   "cell_type": "markdown",
   "metadata": {},
   "source": [
    "The equation number assigned to each mass is now used to create the **DME()** operator. Note that each row contains the identifiers for the end displacements in the current spring."
   ]
  },
  {
   "cell_type": "code",
   "execution_count": 13,
   "metadata": {},
   "outputs": [],
   "source": [
    "def compute_DME(nodes, elements):\n",
    "\n",
    "    nels = elements.shape[0]\n",
    "    LDME = np.zeros([nels, 2], dtype=int)\n",
    "\n",
    "    neq, IBC = eqcounter(nodes)\n",
    "    ndof = 2\n",
    "    nnodes = 2\n",
    "    for i in range(nels):\n",
    "        for j in range(nnodes):\n",
    "            kk = elements[i, j+3]\n",
    "            LDME[i, j] = IBC[kk].item()\n",
    "    return LDME, IBC, neq"
   ]
  },
  {
   "cell_type": "markdown",
   "metadata": {},
   "source": [
    "Using the **DME()** operator it is now possible to assemble the global matrix of stiffness coefficients in terms of equations of the type:\n",
    "\n",
    "$$\\begin{array}{l}\n",
    "{K_{j - 1,j - 1}} \\leftarrow {K_{j - 1,j - 1}} + k_{11}^i\\\\\n",
    "\\end{array}\n",
    "$$\n"
   ]
  },
  {
   "cell_type": "code",
   "execution_count": 14,
   "metadata": {},
   "outputs": [],
   "source": [
    "def assembly(elements, mats, nodes, neq, DME, uel=None):\n",
    "\n",
    "    IELCON = np.zeros([2], dtype=int)\n",
    "    KG = np.zeros((neq, neq))\n",
    "    nels = elements.shape[0]\n",
    "    nnodes = 2\n",
    "    ndof = 2\n",
    "    for el in range(nels):\n",
    "        elcoor = np.zeros([nnodes])\n",
    "        im = int(elements[el, 2])\n",
    "        par0 = mats[im].item()\n",
    "        for j in range(nnodes):\n",
    "            IELCON[j] = elements[el, j+3]\n",
    "            elcoor[j] = nodes[IELCON[j], 1]\n",
    "        kloc = uelspring(par0)\n",
    "        dme = DME[el, :ndof]\n",
    "        for row in range(ndof):\n",
    "            glob_row = dme[row]\n",
    "            if glob_row != -1:\n",
    "                for col in range(ndof):\n",
    "                    glob_col = dme[col]\n",
    "                    if glob_col != -1:\n",
    "                        KG[glob_row, glob_col] = KG[glob_row, glob_col] +\\\n",
    "                            kloc[row, col]\n",
    "\n",
    "    return KG"
   ]
  },
  {
   "cell_type": "markdown",
   "metadata": {},
   "source": [
    "**Question: What is the function of the following subroutines?**"
   ]
  },
  {
   "cell_type": "code",
   "execution_count": 15,
   "metadata": {},
   "outputs": [],
   "source": [
    "def uelspring(kcof):\n",
    "    \"\"\"1D-2-noded Spring element\n",
    "\n",
    "    Kcof : float\n",
    "      Stiffness coefficient (>0).\n",
    "\n",
    "    Returns\n",
    "    -------\n",
    "    kl : ndarray\n",
    "      Local stiffness matrix for the element (2, 2).\n",
    "\n",
    "\n",
    "    \"\"\"\n",
    "    kl = np.zeros([2, 2])\n",
    "    kl[0, 0] = kcof\n",
    "    kl[0, 1] = -kcof\n",
    "    kl[1, 0] = -kcof\n",
    "    kl[1, 1] = kcof\n",
    "\n",
    "    return kl"
   ]
  },
  {
   "cell_type": "code",
   "execution_count": 16,
   "metadata": {},
   "outputs": [],
   "source": [
    "def loadasem(loads, IBC, neq, nl):\n",
    "    \"\"\"Assembles the global Right Hand Side Vector RHSG\n",
    "\n",
    "    Parameters\n",
    "    ----------\n",
    "    loads : ndarray\n",
    "      Array with the loads imposed in the system.\n",
    "    IBC : ndarray (int)\n",
    "      Array that maps the nodes with number of equations.\n",
    "    neq : int\n",
    "      Number of equations in the system after removing the nodes\n",
    "      with imposed displacements.\n",
    "    nl : int\n",
    "      Number of loads.\n",
    "\n",
    "    Returns\n",
    "    -------\n",
    "    RHSG : ndarray\n",
    "      Array with the right hand side vector.\n",
    "\n",
    "    \"\"\"\n",
    "    RHSG = np.zeros([neq])\n",
    "    for i in range(nl):\n",
    "        il = int(loads[i, 0])\n",
    "        ilx = IBC[il]\n",
    "        if ilx != -1:\n",
    "            RHSG[ilx] = loads[i, 1]\n",
    "\n",
    "    return RHSG"
   ]
  },
  {
   "cell_type": "markdown",
   "metadata": {},
   "source": [
    "The main program is then compossed of the following steps:\n",
    "* Read the model\n",
    "* Build the DME() operator\n",
    "* Assembly the global system of equations\n",
    "* Solve for the global displacements $UG$"
   ]
  },
  {
   "cell_type": "code",
   "execution_count": 17,
   "metadata": {},
   "outputs": [
    {
     "name": "stdout",
     "output_type": "stream",
     "text": [
      "[0.002  0.0025 0.0045]\n"
     ]
    }
   ],
   "source": [
    "nodes, mats, elements, loads = readin()\n",
    "DME, IBC, neq = compute_DME(nodes, elements)\n",
    "KG = assembly(elements, mats, nodes, neq, DME)\n",
    "RHSG = loadasem(loads, IBC, neq, 3)\n",
    "UG = np.linalg.solve(KG, RHSG)\n",
    "print(UG)"
   ]
  },
  {
   "cell_type": "markdown",
   "metadata": {},
   "source": [
    "### References\n",
    "\n",
    "* Bathe, Klaus-Jürgen. (2006) Finite element procedures. Klaus-Jurgen Bathe. Prentice Hall International.\n",
    "\n",
    "* Juan Gómez, Nicolás Guarín-Zapata (2018). SolidsPy: 2D-Finite Element Analysis with Python, <https://github.com/AppliedMechanics-EAFIT/SolidsPy>."
   ]
  },
  {
   "cell_type": "code",
   "execution_count": null,
   "metadata": {},
   "outputs": [],
   "source": []
  },
  {
   "cell_type": "code",
   "execution_count": null,
   "metadata": {},
   "outputs": [],
   "source": []
  },
  {
   "cell_type": "code",
   "execution_count": null,
   "metadata": {},
   "outputs": [],
   "source": []
  }
 ],
 "metadata": {
  "celltoolbar": "Raw Cell Format",
  "kernelspec": {
   "display_name": "Python 3 (ipykernel)",
   "language": "python",
   "name": "python3"
  },
  "language_info": {
   "codemirror_mode": {
    "name": "ipython",
    "version": 3
   },
   "file_extension": ".py",
   "mimetype": "text/x-python",
   "name": "python",
   "nbconvert_exporter": "python",
   "pygments_lexer": "ipython3",
   "version": "3.8.20"
  },
  "varInspector": {
   "cols": {
    "lenName": 16,
    "lenType": 16,
    "lenVar": 40
   },
   "kernels_config": {
    "python": {
     "delete_cmd_postfix": "",
     "delete_cmd_prefix": "del ",
     "library": "var_list.py",
     "varRefreshCmd": "print(var_dic_list())"
    },
    "r": {
     "delete_cmd_postfix": ") ",
     "delete_cmd_prefix": "rm(",
     "library": "var_list.r",
     "varRefreshCmd": "cat(var_dic_list()) "
    }
   },
   "types_to_exclude": [
    "module",
    "function",
    "builtin_function_or_method",
    "instance",
    "_Feature"
   ],
   "window_display": false
  }
 },
 "nbformat": 4,
 "nbformat_minor": 4
}
